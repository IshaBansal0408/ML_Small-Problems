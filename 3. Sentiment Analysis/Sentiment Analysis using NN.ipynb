{
 "cells": [
  {
   "cell_type": "markdown",
   "metadata": {},
   "source": [
    "# Sentiment Analysis using Neural Network"
   ]
  },
  {
   "cell_type": "code",
   "execution_count": 1,
   "metadata": {},
   "outputs": [],
   "source": [
    "from keras.datasets import imdb"
   ]
  },
  {
   "cell_type": "markdown",
   "metadata": {},
   "source": [
    "# Data Preparation"
   ]
  },
  {
   "cell_type": "code",
   "execution_count": 2,
   "metadata": {},
   "outputs": [
    {
     "name": "stderr",
     "output_type": "stream",
     "text": [
      "<__array_function__ internals>:5: VisibleDeprecationWarning: Creating an ndarray from ragged nested sequences (which is a list-or-tuple of lists-or-tuples-or ndarrays with different lengths or shapes) is deprecated. If you meant to do this, you must specify 'dtype=object' when creating the ndarray\n",
      "C:\\Users\\Hp\\anaconda3\\lib\\site-packages\\tensorflow\\python\\keras\\datasets\\imdb.py:159: VisibleDeprecationWarning: Creating an ndarray from ragged nested sequences (which is a list-or-tuple of lists-or-tuples-or ndarrays with different lengths or shapes) is deprecated. If you meant to do this, you must specify 'dtype=object' when creating the ndarray\n",
      "  x_train, y_train = np.array(xs[:idx]), np.array(labels[:idx])\n",
      "C:\\Users\\Hp\\anaconda3\\lib\\site-packages\\tensorflow\\python\\keras\\datasets\\imdb.py:160: VisibleDeprecationWarning: Creating an ndarray from ragged nested sequences (which is a list-or-tuple of lists-or-tuples-or ndarrays with different lengths or shapes) is deprecated. If you meant to do this, you must specify 'dtype=object' when creating the ndarray\n",
      "  x_test, y_test = np.array(xs[idx:]), np.array(labels[idx:])\n"
     ]
    }
   ],
   "source": [
    "((x_train,y_train),(x_test,y_test))=imdb.load_data(num_words=10000)"
   ]
  },
  {
   "cell_type": "code",
   "execution_count": 3,
   "metadata": {},
   "outputs": [
    {
     "data": {
      "text/plain": [
       "25000"
      ]
     },
     "execution_count": 3,
     "metadata": {},
     "output_type": "execute_result"
    }
   ],
   "source": [
    "len(x_train)"
   ]
  },
  {
   "cell_type": "code",
   "execution_count": 4,
   "metadata": {},
   "outputs": [
    {
     "data": {
      "text/plain": [
       "25000"
      ]
     },
     "execution_count": 4,
     "metadata": {},
     "output_type": "execute_result"
    }
   ],
   "source": [
    "len(x_test)"
   ]
  },
  {
   "cell_type": "code",
   "execution_count": 5,
   "metadata": {},
   "outputs": [
    {
     "name": "stdout",
     "output_type": "stream",
     "text": [
      "[1, 14, 22, 16, 43, 530, 973, 1622, 1385, 65, 458, 4468, 66, 3941, 4, 173, 36, 256, 5, 25, 100, 43, 838, 112, 50, 670, 2, 9, 35, 480, 284, 5, 150, 4, 172, 112, 167, 2, 336, 385, 39, 4, 172, 4536, 1111, 17, 546, 38, 13, 447, 4, 192, 50, 16, 6, 147, 2025, 19, 14, 22, 4, 1920, 4613, 469, 4, 22, 71, 87, 12, 16, 43, 530, 38, 76, 15, 13, 1247, 4, 22, 17, 515, 17, 12, 16, 626, 18, 2, 5, 62, 386, 12, 8, 316, 8, 106, 5, 4, 2223, 5244, 16, 480, 66, 3785, 33, 4, 130, 12, 16, 38, 619, 5, 25, 124, 51, 36, 135, 48, 25, 1415, 33, 6, 22, 12, 215, 28, 77, 52, 5, 14, 407, 16, 82, 2, 8, 4, 107, 117, 5952, 15, 256, 4, 2, 7, 3766, 5, 723, 36, 71, 43, 530, 476, 26, 400, 317, 46, 7, 4, 2, 1029, 13, 104, 88, 4, 381, 15, 297, 98, 32, 2071, 56, 26, 141, 6, 194, 7486, 18, 4, 226, 22, 21, 134, 476, 26, 480, 5, 144, 30, 5535, 18, 51, 36, 28, 224, 92, 25, 104, 4, 226, 65, 16, 38, 1334, 88, 12, 16, 283, 5, 16, 4472, 113, 103, 32, 15, 16, 5345, 19, 178, 32]\n"
     ]
    }
   ],
   "source": [
    "print(x_train[0])\n",
    "\n",
    "# keras convert text to numbers"
   ]
  },
  {
   "cell_type": "markdown",
   "metadata": {},
   "source": [
    "# Some pre processing"
   ]
  },
  {
   "cell_type": "code",
   "execution_count": 6,
   "metadata": {},
   "outputs": [],
   "source": [
    "word_index=imdb.get_word_index()\n",
    "\n",
    "#this get word index function returns a dictionary showing the word as key and its numerical representation as value."
   ]
  },
  {
   "cell_type": "code",
   "execution_count": 7,
   "metadata": {},
   "outputs": [],
   "source": [
    "#print(word_index)"
   ]
  },
  {
   "cell_type": "code",
   "execution_count": 8,
   "metadata": {},
   "outputs": [],
   "source": [
    "# But we are getting numbers as an input to we need to switch the key and values\n",
    "\n",
    "new_word_index = dict([value,key] for (key,value) in word_index.items())"
   ]
  },
  {
   "cell_type": "code",
   "execution_count": 9,
   "metadata": {},
   "outputs": [],
   "source": [
    "#print(new_word_index)"
   ]
  },
  {
   "cell_type": "code",
   "execution_count": 10,
   "metadata": {},
   "outputs": [],
   "source": [
    "# use the new_word_index to look the exact review \n",
    "actual_review = ' '.join([new_word_index.get(indx-3,\"#\") for indx in x_train[0]])\n",
    "\n",
    "#Note : index - 3 because when a vocabulary is created it adds 3 words : pad word , start , unk(unknown words) so it ends up in shifting of index by 3"
   ]
  },
  {
   "cell_type": "code",
   "execution_count": 11,
   "metadata": {},
   "outputs": [
    {
     "name": "stdout",
     "output_type": "stream",
     "text": [
      "[1, 14, 22, 16, 43, 530, 973, 1622, 1385, 65, 458, 4468, 66, 3941, 4, 173, 36, 256, 5, 25, 100, 43, 838, 112, 50, 670, 2, 9, 35, 480, 284, 5, 150, 4, 172, 112, 167, 2, 336, 385, 39, 4, 172, 4536, 1111, 17, 546, 38, 13, 447, 4, 192, 50, 16, 6, 147, 2025, 19, 14, 22, 4, 1920, 4613, 469, 4, 22, 71, 87, 12, 16, 43, 530, 38, 76, 15, 13, 1247, 4, 22, 17, 515, 17, 12, 16, 626, 18, 2, 5, 62, 386, 12, 8, 316, 8, 106, 5, 4, 2223, 5244, 16, 480, 66, 3785, 33, 4, 130, 12, 16, 38, 619, 5, 25, 124, 51, 36, 135, 48, 25, 1415, 33, 6, 22, 12, 215, 28, 77, 52, 5, 14, 407, 16, 82, 2, 8, 4, 107, 117, 5952, 15, 256, 4, 2, 7, 3766, 5, 723, 36, 71, 43, 530, 476, 26, 400, 317, 46, 7, 4, 2, 1029, 13, 104, 88, 4, 381, 15, 297, 98, 32, 2071, 56, 26, 141, 6, 194, 7486, 18, 4, 226, 22, 21, 134, 476, 26, 480, 5, 144, 30, 5535, 18, 51, 36, 28, 224, 92, 25, 104, 4, 226, 65, 16, 38, 1334, 88, 12, 16, 283, 5, 16, 4472, 113, 103, 32, 15, 16, 5345, 19, 178, 32]\n"
     ]
    }
   ],
   "source": [
    "print(x_train[0])"
   ]
  },
  {
   "cell_type": "code",
   "execution_count": 12,
   "metadata": {},
   "outputs": [
    {
     "name": "stdout",
     "output_type": "stream",
     "text": [
      "# this film was just brilliant casting location scenery story direction everyone's really suited the part they played and you could just imagine being there robert # is an amazing actor and now the same being director # father came from the same scottish island as myself so i loved the fact there was a real connection with this film the witty remarks throughout the film were great it was just brilliant so much that i bought the film as soon as it was released for # and would recommend it to everyone to watch and the fly fishing was amazing really cried at the end it was so sad and you know what they say if you cry at a film it must have been good and this definitely was also # to the two little boy's that played the # of norman and paul they were just brilliant children are often left out of the # list i think because the stars that play them all grown up are such a big profile for the whole film but these children are amazing and should be praised for what they have done don't you think the whole story was so lovely because it was true and was someone's life after all that was shared with us all\n"
     ]
    }
   ],
   "source": [
    "print(actual_review)"
   ]
  },
  {
   "cell_type": "markdown",
   "metadata": {},
   "source": [
    "# Vectorization of Data\n",
    "\n",
    "Vocab size : 10000\n",
    "\n",
    "Aim : Every sentence is represented by a vector of length of the vocabulary (10000)\n",
    "\n",
    "For Example: 1010111......0"
   ]
  },
  {
   "cell_type": "code",
   "execution_count": 13,
   "metadata": {},
   "outputs": [],
   "source": [
    "#function will convert a list of sentences to vectors\n",
    "#output - each row consists of vectorize form of the sentence\n",
    "import numpy as np\n",
    "def convert_to_vector(li,vsize=10000):\n",
    "    output = np.zeros((len(li),vsize))\n",
    "    #returns index and key of the word\n",
    "    for i,indx in enumerate(li):\n",
    "        output[i,indx] = 1\n",
    "    return output       "
   ]
  },
  {
   "cell_type": "code",
   "execution_count": 14,
   "metadata": {},
   "outputs": [],
   "source": [
    "vec_x_train = convert_to_vector(x_train)\n",
    "vec_x_test = convert_to_vector(x_test)"
   ]
  },
  {
   "cell_type": "code",
   "execution_count": 15,
   "metadata": {},
   "outputs": [
    {
     "name": "stdout",
     "output_type": "stream",
     "text": [
      "(25000,)\n",
      "(25000, 10000)\n"
     ]
    }
   ],
   "source": [
    "print(x_train.shape)\n",
    "print(vec_x_train.shape)"
   ]
  },
  {
   "cell_type": "code",
   "execution_count": 16,
   "metadata": {},
   "outputs": [
    {
     "name": "stdout",
     "output_type": "stream",
     "text": [
      "[0. 1. 1. ... 0. 0. 0.]\n"
     ]
    }
   ],
   "source": [
    "print(vec_x_train[0])"
   ]
  },
  {
   "cell_type": "code",
   "execution_count": 17,
   "metadata": {},
   "outputs": [],
   "source": [
    "y_train = np.asarray(y_train).astype('float32')\n",
    "y_test = np.asarray(y_test).astype('float32')"
   ]
  },
  {
   "cell_type": "code",
   "execution_count": 18,
   "metadata": {},
   "outputs": [
    {
     "name": "stdout",
     "output_type": "stream",
     "text": [
      "[1. 0. 0. ... 0. 1. 0.]\n"
     ]
    }
   ],
   "source": [
    "print(y_train)"
   ]
  },
  {
   "cell_type": "markdown",
   "metadata": {},
   "source": [
    "# Building the Neural Network\n",
    "\n",
    "1. Input Layer - vectorized text \n",
    "2. Hidden Layer 1 : Dense : 16 units\n",
    "3. Hidden Layer 2 : Dense : 16 units\n",
    "4. Output Layer - 1 unit (0 - negative review , 1 - positive review)\n"
   ]
  },
  {
   "cell_type": "code",
   "execution_count": 19,
   "metadata": {},
   "outputs": [],
   "source": [
    "from keras import models\n",
    "from keras.layers import Dense"
   ]
  },
  {
   "cell_type": "code",
   "execution_count": 20,
   "metadata": {},
   "outputs": [],
   "source": [
    "# 1. Define the model\n",
    "model = models.Sequential()\n",
    "model.add(Dense(16,activation='relu',input_shape=(10000,)))\n",
    "model.add(Dense(16,activation='relu'))\n",
    "model.add(Dense(1,activation='sigmoid'))"
   ]
  },
  {
   "cell_type": "code",
   "execution_count": 21,
   "metadata": {},
   "outputs": [],
   "source": [
    "# 2. Compiling the model\n",
    "model.compile(optimizer='rmsprop',loss='binary_crossentropy',metrics=['accuracy'])\n",
    "\n",
    "# Goal of Optimizers: Adjust weights in order to minimize loss"
   ]
  },
  {
   "cell_type": "code",
   "execution_count": 22,
   "metadata": {},
   "outputs": [
    {
     "name": "stdout",
     "output_type": "stream",
     "text": [
      "Model: \"sequential\"\n",
      "_________________________________________________________________\n",
      "Layer (type)                 Output Shape              Param #   \n",
      "=================================================================\n",
      "dense (Dense)                (None, 16)                160016    \n",
      "_________________________________________________________________\n",
      "dense_1 (Dense)              (None, 16)                272       \n",
      "_________________________________________________________________\n",
      "dense_2 (Dense)              (None, 1)                 17        \n",
      "=================================================================\n",
      "Total params: 160,305\n",
      "Trainable params: 160,305\n",
      "Non-trainable params: 0\n",
      "_________________________________________________________________\n"
     ]
    }
   ],
   "source": [
    "model.summary()"
   ]
  },
  {
   "cell_type": "markdown",
   "metadata": {},
   "source": [
    "#### Study of Parameters\n",
    "\n",
    "1. dense : 10000*16 + 16(bias)\n",
    "2. dense_1 : 16*16 + 16\n",
    "3. dense_2 : 16*1 + 1 "
   ]
  },
  {
   "cell_type": "markdown",
   "metadata": {},
   "source": [
    "# Training and Validation\n",
    "\n",
    "Out of 25000 training values putting half (5000) as validation and rest training"
   ]
  },
  {
   "cell_type": "code",
   "execution_count": 23,
   "metadata": {},
   "outputs": [],
   "source": [
    "x_validation = vec_x_train[:5000]\n",
    "new_x_train = vec_x_train[5000:]\n",
    "\n",
    "y_validation = y_train[:5000]\n",
    "new_y_train = y_train[5000:]"
   ]
  },
  {
   "cell_type": "code",
   "execution_count": 24,
   "metadata": {},
   "outputs": [
    {
     "name": "stdout",
     "output_type": "stream",
     "text": [
      "Epoch 1/20\n",
      "40/40 [==============================] - 4s 55ms/step - loss: 0.5751 - accuracy: 0.7377 - val_loss: 0.3862 - val_accuracy: 0.8566\n",
      "Epoch 2/20\n",
      "40/40 [==============================] - 1s 20ms/step - loss: 0.3105 - accuracy: 0.9049 - val_loss: 0.3026 - val_accuracy: 0.8846\n",
      "Epoch 3/20\n",
      "40/40 [==============================] - 1s 21ms/step - loss: 0.2188 - accuracy: 0.9282 - val_loss: 0.2841 - val_accuracy: 0.8870\n",
      "Epoch 4/20\n",
      "40/40 [==============================] - 1s 18ms/step - loss: 0.1777 - accuracy: 0.9400 - val_loss: 0.2935 - val_accuracy: 0.8876\n",
      "Epoch 5/20\n",
      "40/40 [==============================] - 1s 19ms/step - loss: 0.1407 - accuracy: 0.9531 - val_loss: 0.2853 - val_accuracy: 0.8880\n",
      "Epoch 6/20\n",
      "40/40 [==============================] - 1s 19ms/step - loss: 0.1198 - accuracy: 0.9603 - val_loss: 0.3232 - val_accuracy: 0.8826\n",
      "Epoch 7/20\n",
      "40/40 [==============================] - 1s 19ms/step - loss: 0.1047 - accuracy: 0.9676 - val_loss: 0.3105 - val_accuracy: 0.8866\n",
      "Epoch 8/20\n",
      "40/40 [==============================] - 1s 18ms/step - loss: 0.0874 - accuracy: 0.9735 - val_loss: 0.3285 - val_accuracy: 0.8860\n",
      "Epoch 9/20\n",
      "40/40 [==============================] - 1s 18ms/step - loss: 0.0740 - accuracy: 0.9789 - val_loss: 0.3880 - val_accuracy: 0.8744\n",
      "Epoch 10/20\n",
      "40/40 [==============================] - 1s 18ms/step - loss: 0.0626 - accuracy: 0.9829 - val_loss: 0.3793 - val_accuracy: 0.8784\n",
      "Epoch 11/20\n",
      "40/40 [==============================] - 1s 19ms/step - loss: 0.0555 - accuracy: 0.9845 - val_loss: 0.3982 - val_accuracy: 0.8794\n",
      "Epoch 12/20\n",
      "40/40 [==============================] - 1s 19ms/step - loss: 0.0442 - accuracy: 0.9897 - val_loss: 0.4302 - val_accuracy: 0.8738\n",
      "Epoch 13/20\n",
      "40/40 [==============================] - 1s 19ms/step - loss: 0.0389 - accuracy: 0.9919 - val_loss: 0.5099 - val_accuracy: 0.8630\n",
      "Epoch 14/20\n",
      "40/40 [==============================] - 1s 19ms/step - loss: 0.0354 - accuracy: 0.9913 - val_loss: 0.5034 - val_accuracy: 0.8700\n",
      "Epoch 15/20\n",
      "40/40 [==============================] - 1s 19ms/step - loss: 0.0262 - accuracy: 0.9946 - val_loss: 0.5287 - val_accuracy: 0.8678\n",
      "Epoch 16/20\n",
      "40/40 [==============================] - 1s 18ms/step - loss: 0.0216 - accuracy: 0.9952 - val_loss: 0.5550 - val_accuracy: 0.8672\n",
      "Epoch 17/20\n",
      "40/40 [==============================] - 1s 18ms/step - loss: 0.0172 - accuracy: 0.9975 - val_loss: 0.5885 - val_accuracy: 0.8664\n",
      "Epoch 18/20\n",
      "40/40 [==============================] - 1s 19ms/step - loss: 0.0139 - accuracy: 0.9980 - val_loss: 0.6233 - val_accuracy: 0.8654\n",
      "Epoch 19/20\n",
      "40/40 [==============================] - 1s 18ms/step - loss: 0.0110 - accuracy: 0.9987 - val_loss: 0.6691 - val_accuracy: 0.8628\n",
      "Epoch 20/20\n",
      "40/40 [==============================] - 1s 17ms/step - loss: 0.0096 - accuracy: 0.9985 - val_loss: 0.6965 - val_accuracy: 0.8614\n"
     ]
    }
   ],
   "source": [
    "#Training of model\n",
    "training_info=model.fit(new_x_train,new_y_train,epochs=20,batch_size=512,validation_data=(x_validation,y_validation))\n",
    "\n",
    "# Batch size is considered as multiple of 2"
   ]
  },
  {
   "cell_type": "markdown",
   "metadata": {},
   "source": [
    "# Visualise Results"
   ]
  },
  {
   "cell_type": "code",
   "execution_count": 25,
   "metadata": {},
   "outputs": [],
   "source": [
    "import matplotlib.pyplot as plt"
   ]
  },
  {
   "cell_type": "code",
   "execution_count": 26,
   "metadata": {},
   "outputs": [],
   "source": [
    "h = training_info.history"
   ]
  },
  {
   "cell_type": "code",
   "execution_count": 27,
   "metadata": {},
   "outputs": [
    {
     "data": {
      "text/plain": [
       "{'loss': [0.49732622504234314,\n",
       "  0.2926802635192871,\n",
       "  0.2167711704969406,\n",
       "  0.17533208429813385,\n",
       "  0.14576995372772217,\n",
       "  0.12573376297950745,\n",
       "  0.10786976665258408,\n",
       "  0.09409540146589279,\n",
       "  0.07924306392669678,\n",
       "  0.06707475334405899,\n",
       "  0.0616326704621315,\n",
       "  0.04779186099767685,\n",
       "  0.04062251001596451,\n",
       "  0.0370396189391613,\n",
       "  0.029422130435705185,\n",
       "  0.02540474943816662,\n",
       "  0.019960803911089897,\n",
       "  0.017710983753204346,\n",
       "  0.013807079754769802,\n",
       "  0.01219341903924942],\n",
       " 'accuracy': [0.808650016784668,\n",
       "  0.9035500288009644,\n",
       "  0.9258000254631042,\n",
       "  0.9399499893188477,\n",
       "  0.9501500129699707,\n",
       "  0.9569500088691711,\n",
       "  0.9647499918937683,\n",
       "  0.9690999984741211,\n",
       "  0.9758999943733215,\n",
       "  0.9814000129699707,\n",
       "  0.9814000129699707,\n",
       "  0.9871000051498413,\n",
       "  0.9901999831199646,\n",
       "  0.9901000261306763,\n",
       "  0.9933500289916992,\n",
       "  0.9936500191688538,\n",
       "  0.9959999918937683,\n",
       "  0.9962499737739563,\n",
       "  0.9974499940872192,\n",
       "  0.9973499774932861],\n",
       " 'val_loss': [0.3861878514289856,\n",
       "  0.3025824725627899,\n",
       "  0.28409579396247864,\n",
       "  0.2934510111808777,\n",
       "  0.2853231132030487,\n",
       "  0.323150634765625,\n",
       "  0.3104819059371948,\n",
       "  0.32850342988967896,\n",
       "  0.38803598284721375,\n",
       "  0.3793410360813141,\n",
       "  0.3982437252998352,\n",
       "  0.430192768573761,\n",
       "  0.5099356174468994,\n",
       "  0.5033836364746094,\n",
       "  0.5286619067192078,\n",
       "  0.5549684762954712,\n",
       "  0.5885426998138428,\n",
       "  0.6233035922050476,\n",
       "  0.6690985560417175,\n",
       "  0.6965442895889282],\n",
       " 'val_accuracy': [0.8565999865531921,\n",
       "  0.8845999836921692,\n",
       "  0.8870000243186951,\n",
       "  0.8876000046730042,\n",
       "  0.8880000114440918,\n",
       "  0.8826000094413757,\n",
       "  0.8866000175476074,\n",
       "  0.8859999775886536,\n",
       "  0.8744000196456909,\n",
       "  0.8784000277519226,\n",
       "  0.8794000148773193,\n",
       "  0.8737999796867371,\n",
       "  0.8629999756813049,\n",
       "  0.8700000047683716,\n",
       "  0.8677999973297119,\n",
       "  0.8672000169754028,\n",
       "  0.8664000034332275,\n",
       "  0.8654000163078308,\n",
       "  0.8628000020980835,\n",
       "  0.8614000082015991]}"
      ]
     },
     "execution_count": 27,
     "metadata": {},
     "output_type": "execute_result"
    }
   ],
   "source": [
    "h"
   ]
  },
  {
   "cell_type": "code",
   "execution_count": 28,
   "metadata": {},
   "outputs": [
    {
     "data": {
      "text/plain": [
       "[<matplotlib.lines.Line2D at 0x1e017a5b940>]"
      ]
     },
     "execution_count": 28,
     "metadata": {},
     "output_type": "execute_result"
    },
    {
     "data": {
      "image/png": "[encoded data removed]",
      "text/plain": [
       "<Figure size 432x288 with 1 Axes>"
      ]
     },
     "metadata": {
      "needs_background": "light"
     },
     "output_type": "display_data"
    }
   ],
   "source": [
    "plt.plot(h['val_loss'],color=\"green\",label=\"Validation loss\")"
   ]
  },
  {
   "cell_type": "code",
   "execution_count": 29,
   "metadata": {},
   "outputs": [
    {
     "data": {
      "text/plain": [
       "[<matplotlib.lines.Line2D at 0x1e017b97b50>]"
      ]
     },
     "execution_count": 29,
     "metadata": {},
     "output_type": "execute_result"
    },
    {
     "data": {
      "image/png": "[encoded data removed]",
      "text/plain": [
       "<Figure size 432x288 with 1 Axes>"
      ]
     },
     "metadata": {
      "needs_background": "light"
     },
     "output_type": "display_data"
    }
   ],
   "source": [
    "plt.plot(h['loss'],color=\"red\",label=\"Training Loss\")"
   ]
  },
  {
   "cell_type": "code",
   "execution_count": 30,
   "metadata": {},
   "outputs": [
    {
     "data": {
      "text/plain": [
       "[<matplotlib.lines.Line2D at 0x1e017bfb5b0>]"
      ]
     },
     "execution_count": 30,
     "metadata": {},
     "output_type": "execute_result"
    },
    {
     "data": {
      "image/png": "[encoded data removed]",
      "text/plain": [
       "<Figure size 432x288 with 1 Axes>"
      ]
     },
     "metadata": {
      "needs_background": "light"
     },
     "output_type": "display_data"
    }
   ],
   "source": [
    "plt.plot(h['val_accuracy'],color=\"green\",label=\"Validation loss\")"
   ]
  },
  {
   "cell_type": "code",
   "execution_count": 31,
   "metadata": {},
   "outputs": [
    {
     "data": {
      "text/plain": [
       "[<matplotlib.lines.Line2D at 0x1e017c933a0>]"
      ]
     },
     "execution_count": 31,
     "metadata": {},
     "output_type": "execute_result"
    },
    {
     "data": {
      "image/png": "[encoded data removed]",
      "text/plain": [
       "<Figure size 432x288 with 1 Axes>"
      ]
     },
     "metadata": {
      "needs_background": "light"
     },
     "output_type": "display_data"
    }
   ],
   "source": [
    "plt.plot(h['accuracy'],color=\"green\",label=\"Validation loss\")"
   ]
  },
  {
   "cell_type": "code",
   "execution_count": 32,
   "metadata": {},
   "outputs": [
    {
     "data": {
      "image/png": "[encoded data removed]",
      "text/plain": [
       "<Figure size 576x576 with 1 Axes>"
      ]
     },
     "metadata": {},
     "output_type": "display_data"
    }
   ],
   "source": [
    "plt.style.use(\"ggplot\")\n",
    "plt.figure(figsize=(8,8))\n",
    "plt.plot(h['val_loss'],color=\"green\",label=\"Validation loss\")\n",
    "plt.plot(h['loss'],color=\"red\",label=\"Training Loss\")\n",
    "plt.xlabel(\"Epoch\")\n",
    "plt.ylabel(\"Loss\")\n",
    "plt.legend()\n",
    "plt.show()"
   ]
  },
  {
   "cell_type": "code",
   "execution_count": 33,
   "metadata": {},
   "outputs": [
    {
     "data": {
      "image/png": "[encoded data removed]",
      "text/plain": [
       "<Figure size 576x576 with 1 Axes>"
      ]
     },
     "metadata": {},
     "output_type": "display_data"
    }
   ],
   "source": [
    "plt.style.use(\"ggplot\")\n",
    "plt.figure(figsize=(8,8))\n",
    "plt.plot(h['val_accuracy'],color=\"green\",label=\"Validation Accuracy\")\n",
    "plt.plot(h['accuracy'],color=\"red\",label=\"Training Accuracy\")\n",
    "plt.xlabel(\"Epoch\")\n",
    "plt.ylabel(\"Accuracy\")\n",
    "plt.legend()\n",
    "plt.show()"
   ]
  },
  {
   "cell_type": "code",
   "execution_count": 34,
   "metadata": {},
   "outputs": [
    {
     "name": "stdout",
     "output_type": "stream",
     "text": [
      "782/782 [==============================] - 1s 1ms/step - loss: 0.7821 - accuracy: 0.8479\n"
     ]
    },
    {
     "data": {
      "text/plain": [
       "0.8479200005531311"
      ]
     },
     "execution_count": 34,
     "metadata": {},
     "output_type": "execute_result"
    }
   ],
   "source": [
    "model.evaluate(vec_x_test,y_test)[1]"
   ]
  },
  {
   "cell_type": "code",
   "execution_count": 35,
   "metadata": {},
   "outputs": [
    {
     "name": "stdout",
     "output_type": "stream",
     "text": [
      "782/782 [==============================] - 1s 1ms/step - loss: 0.1437 - accuracy: 0.9719\n"
     ]
    },
    {
     "data": {
      "text/plain": [
       "0.9719200134277344"
      ]
     },
     "execution_count": 35,
     "metadata": {},
     "output_type": "execute_result"
    }
   ],
   "source": [
    "model.evaluate(vec_x_train,y_train)[1]"
   ]
  },
  {
   "cell_type": "markdown",
   "metadata": {},
   "source": [
    "# Making Predictions"
   ]
  },
  {
   "cell_type": "code",
   "execution_count": 37,
   "metadata": {},
   "outputs": [
    {
     "data": {
      "text/plain": [
       "array([[0.00477538],\n",
       "       [1.        ],\n",
       "       [0.8933755 ],\n",
       "       ...,\n",
       "       [0.01578847],\n",
       "       [0.00746876],\n",
       "       [0.6604922 ]], dtype=float32)"
      ]
     },
     "execution_count": 37,
     "metadata": {},
     "output_type": "execute_result"
    }
   ],
   "source": [
    "model.predict(vec_x_test)"
   ]
  },
  {
   "cell_type": "code",
   "execution_count": null,
   "metadata": {},
   "outputs": [],
   "source": []
  }
 ],
 "metadata": {
  "kernelspec": {
   "display_name": "Python 3",
   "language": "python",
   "name": "python3"
  },
  "language_info": {
   "codemirror_mode": {
    "name": "ipython",
    "version": 3
   },
   "file_extension": ".py",
   "mimetype": "text/x-python",
   "name": "python",
   "nbconvert_exporter": "python",
   "pygments_lexer": "ipython3",
   "version": "3.8.5"
  }
 },
 "nbformat": 4,
 "nbformat_minor": 4
}
